{
 "cells": [
  {
   "cell_type": "code",
   "execution_count": 19,
   "id": "a7b98808-4880-43b9-94a1-2bc6a298aee9",
   "metadata": {},
   "outputs": [
    {
     "name": "stdout",
     "output_type": "stream",
     "text": [
      "The value is 0.9706877692486436\n",
      "The scond Value is 1\n"
     ]
    }
   ],
   "source": [
    "import numpy as np\n",
    "def sigmoid(z):\n",
    "    return 1 / ( 1 + np.exp(-z))\n",
    "\n",
    "\n",
    "def feedforword(weights, bias, inputs):\n",
    "    total = sum(w*x for w,x in zip(weights, inputs)) + bias\n",
    "    return sigmoid(total)\n",
    "\n",
    "\n",
    "def classify(output, threshold= 0.5):\n",
    "    return 1 if output >= threshold else 0\n",
    "\n",
    "weights = [0,1]\n",
    "bias= 0.5\n",
    "inputs= [2,3]\n",
    "\n",
    "output = feedforword(weights, bias, inputs)\n",
    "print('The value is', output)\n",
    "\n",
    "print(f'The scond Value is {classify(output)}')"
   ]
  },
  {
   "cell_type": "code",
   "execution_count": null,
   "id": "d2f0e752-36d6-4cb9-b888-697a0989ba8a",
   "metadata": {},
   "outputs": [],
   "source": []
  }
 ],
 "metadata": {
  "kernelspec": {
   "display_name": "Python 3 (ipykernel)",
   "language": "python",
   "name": "python3"
  },
  "language_info": {
   "codemirror_mode": {
    "name": "ipython",
    "version": 3
   },
   "file_extension": ".py",
   "mimetype": "text/x-python",
   "name": "python",
   "nbconvert_exporter": "python",
   "pygments_lexer": "ipython3",
   "version": "3.12.7"
  }
 },
 "nbformat": 4,
 "nbformat_minor": 5
}
